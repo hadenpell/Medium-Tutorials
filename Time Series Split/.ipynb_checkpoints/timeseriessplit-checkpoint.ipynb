{
 "cells": [
  {
   "cell_type": "code",
   "execution_count": 12,
   "id": "e853d245",
   "metadata": {},
   "outputs": [],
   "source": [
    "import numpy as np\n",
    "from sklearn.model_selection import TimeSeriesSplit\n",
    "from sklearn.datasets import make_regression"
   ]
  },
  {
   "cell_type": "code",
   "execution_count": 13,
   "id": "e374dbad",
   "metadata": {},
   "outputs": [],
   "source": [
    "X = np.array([[1], [2], [3], [4], [5], [6], [7], [8], [9], [10], [11], [12]])\n",
    "y = np.array([2, 4, 6, 8, 10, 12, 14, 16, 18, 20, 22, 24])"
   ]
  },
  {
   "cell_type": "code",
   "execution_count": 14,
   "id": "58bff105",
   "metadata": {},
   "outputs": [],
   "source": [
    "#X,y=make_regression(n_samples=15,n_features=1)"
   ]
  },
  {
   "cell_type": "code",
   "execution_count": 15,
   "id": "db344732",
   "metadata": {
    "scrolled": true
   },
   "outputs": [
    {
     "data": {
      "text/plain": [
       "array([[ 1],\n",
       "       [ 2],\n",
       "       [ 3],\n",
       "       [ 4],\n",
       "       [ 5],\n",
       "       [ 6],\n",
       "       [ 7],\n",
       "       [ 8],\n",
       "       [ 9],\n",
       "       [10],\n",
       "       [11],\n",
       "       [12]])"
      ]
     },
     "execution_count": 15,
     "metadata": {},
     "output_type": "execute_result"
    }
   ],
   "source": [
    "X"
   ]
  },
  {
   "cell_type": "code",
   "execution_count": 16,
   "id": "b7896b12",
   "metadata": {},
   "outputs": [
    {
     "data": {
      "text/plain": [
       "array([ 2,  4,  6,  8, 10, 12, 14, 16, 18, 20, 22, 24])"
      ]
     },
     "execution_count": 16,
     "metadata": {},
     "output_type": "execute_result"
    }
   ],
   "source": [
    "y"
   ]
  },
  {
   "cell_type": "code",
   "execution_count": 17,
   "id": "296339ee",
   "metadata": {},
   "outputs": [
    {
     "data": {
      "text/plain": [
       "(12, 1)"
      ]
     },
     "execution_count": 17,
     "metadata": {},
     "output_type": "execute_result"
    }
   ],
   "source": [
    "X.shape"
   ]
  },
  {
   "cell_type": "code",
   "execution_count": 18,
   "id": "45ff770e",
   "metadata": {},
   "outputs": [
    {
     "data": {
      "text/plain": [
       "(12,)"
      ]
     },
     "execution_count": 18,
     "metadata": {},
     "output_type": "execute_result"
    }
   ],
   "source": [
    "y.shape"
   ]
  },
  {
   "cell_type": "code",
   "execution_count": 19,
   "id": "0fb16b0f",
   "metadata": {},
   "outputs": [],
   "source": [
    "tss = TimeSeriesSplit(n_splits=5)"
   ]
  },
  {
   "cell_type": "code",
   "execution_count": 20,
   "id": "8189b8d7",
   "metadata": {
    "scrolled": true
   },
   "outputs": [
    {
     "name": "stdout",
     "output_type": "stream",
     "text": [
      "Fold 1:\n",
      "  train:[[1]\n",
      " [2]]\n",
      "  test:[[3]\n",
      " [4]]\n",
      "Fold 2:\n",
      "  train:[[1]\n",
      " [2]\n",
      " [3]\n",
      " [4]]\n",
      "  test:[[5]\n",
      " [6]]\n",
      "Fold 3:\n",
      "  train:[[1]\n",
      " [2]\n",
      " [3]\n",
      " [4]\n",
      " [5]\n",
      " [6]]\n",
      "  test:[[7]\n",
      " [8]]\n",
      "Fold 4:\n",
      "  train:[[1]\n",
      " [2]\n",
      " [3]\n",
      " [4]\n",
      " [5]\n",
      " [6]\n",
      " [7]\n",
      " [8]]\n",
      "  test:[[ 9]\n",
      " [10]]\n",
      "Fold 5:\n",
      "  train:[[ 1]\n",
      " [ 2]\n",
      " [ 3]\n",
      " [ 4]\n",
      " [ 5]\n",
      " [ 6]\n",
      " [ 7]\n",
      " [ 8]\n",
      " [ 9]\n",
      " [10]]\n",
      "  test:[[11]\n",
      " [12]]\n"
     ]
    }
   ],
   "source": [
    "for i, (train_index, test_index) in enumerate(tss.split(X)):\n",
    "    print(f\"Fold {i+1}:\")\n",
    "    print(f\"  train:{X[train_index]}\")\n",
    "    print(f\"  test:{X[test_index]}\")"
   ]
  },
  {
   "cell_type": "code",
   "execution_count": 21,
   "id": "760a1186",
   "metadata": {},
   "outputs": [],
   "source": [
    "import pandas as pd\n",
    "from sklearn.ensemble import RandomForestRegressor\n",
    "from sklearn.metrics import mean_squared_error\n",
    "from sklearn.model_selection import cross_val_score,cross_validate"
   ]
  },
  {
   "cell_type": "code",
   "execution_count": 22,
   "id": "76f2b8a9",
   "metadata": {},
   "outputs": [],
   "source": [
    "rf = RandomForestRegressor()"
   ]
  },
  {
   "cell_type": "code",
   "execution_count": 23,
   "id": "849537b0",
   "metadata": {},
   "outputs": [],
   "source": [
    "cv = cross_validate(rf,X.reshape(-1,1),y,cv=tss,scoring='neg_root_mean_squared_error') #['neg_root_mean_squared_error','neg_mean_absolute_percentage_error'])"
   ]
  },
  {
   "cell_type": "code",
   "execution_count": 24,
   "id": "40ecc63c",
   "metadata": {},
   "outputs": [
    {
     "data": {
      "text/plain": [
       "{'fit_time': array([0.10684276, 0.09179115, 0.0898869 , 0.09899497, 0.09382415]),\n",
       " 'score_time': array([0.00750422, 0.00717902, 0.00723815, 0.00779486, 0.00748372]),\n",
       " 'test_score': array([-3.64005494, -3.89070688, -3.91003836, -4.12310563, -4.20076184])}"
      ]
     },
     "execution_count": 24,
     "metadata": {},
     "output_type": "execute_result"
    }
   ],
   "source": [
    "cv"
   ]
  },
  {
   "cell_type": "code",
   "execution_count": 25,
   "id": "1fd6eff1",
   "metadata": {},
   "outputs": [
    {
     "data": {
      "text/plain": [
       "-3.952933529111403"
      ]
     },
     "execution_count": 25,
     "metadata": {},
     "output_type": "execute_result"
    }
   ],
   "source": [
    "cv['test_score'].mean()"
   ]
  },
  {
   "cell_type": "code",
   "execution_count": 26,
   "id": "873f1c03",
   "metadata": {},
   "outputs": [
    {
     "name": "stdout",
     "output_type": "stream",
     "text": [
      "3.640054944640259\n",
      "3.871382182115323\n",
      "3.871382182115323\n",
      "4.181339498294776\n",
      "4.3368652273272215\n"
     ]
    }
   ],
   "source": [
    "for train_index, test_index in tss.split(X):\n",
    "    X_train, X_test = X[train_index], X[test_index]\n",
    "    y_train, y_test = y[train_index], y[test_index]\n",
    "    # Fit model\n",
    "    rf.fit(X_train,y_train)\n",
    "    # Score test set\n",
    "    predicted_test=rf.predict(X_test)\n",
    "    rmse = mean_squared_error(y_test,predicted_test,squared=False)\n",
    "    print(rmse)"
   ]
  },
  {
   "cell_type": "markdown",
   "id": "d0678bae",
   "metadata": {},
   "source": [
    "## Blocked time series split"
   ]
  },
  {
   "cell_type": "code",
   "execution_count": 27,
   "id": "2ea3aae0",
   "metadata": {},
   "outputs": [],
   "source": [
    "import pandas as pd"
   ]
  },
  {
   "cell_type": "code",
   "execution_count": 28,
   "id": "eca5a374",
   "metadata": {},
   "outputs": [],
   "source": [
    "class BlockingTimeSeriesSplit():\n",
    "    def __init__(self, n_splits):\n",
    "        self.n_splits = n_splits\n",
    "    \n",
    "    def get_n_splits(self, X, y, groups):\n",
    "        return self.n_splits\n",
    "    \n",
    "    def split(self, X, y=None, groups=None):\n",
    "        n_samples = len(X)\n",
    "        k_fold_size = n_samples // self.n_splits\n",
    "        indices = np.arange(n_samples)\n",
    "\n",
    "        margin = 0\n",
    "        for i in range(self.n_splits):\n",
    "            start = i * k_fold_size\n",
    "            stop = start + k_fold_size\n",
    "            mid = int(0.8 * (stop - start)) + start\n",
    "            yield indices[start: mid], indices[mid + margin: stop]"
   ]
  },
  {
   "cell_type": "code",
   "execution_count": 29,
   "id": "7a611b80",
   "metadata": {},
   "outputs": [],
   "source": [
    "btscv = BlockingTimeSeriesSplit(n_splits=5)"
   ]
  },
  {
   "cell_type": "code",
   "execution_count": 30,
   "id": "012057ec",
   "metadata": {},
   "outputs": [],
   "source": [
    "cv = cross_validate(rf,X.reshape(-1,1),y,cv=btscv,scoring='neg_root_mean_squared_error')"
   ]
  },
  {
   "cell_type": "code",
   "execution_count": 31,
   "id": "132456a1",
   "metadata": {},
   "outputs": [
    {
     "data": {
      "text/plain": [
       "{'fit_time': array([0.10727406, 0.08857012, 0.08911991, 0.09095573, 0.10019517]),\n",
       " 'score_time': array([0.00738025, 0.00720215, 0.00727606, 0.00727224, 0.00825071]),\n",
       " 'test_score': array([-2., -2., -2., -2., -2.])}"
      ]
     },
     "execution_count": 31,
     "metadata": {},
     "output_type": "execute_result"
    }
   ],
   "source": [
    "cv"
   ]
  },
  {
   "cell_type": "code",
   "execution_count": null,
   "id": "32c5ab82",
   "metadata": {},
   "outputs": [],
   "source": []
  }
 ],
 "metadata": {
  "kernelspec": {
   "display_name": "Python 3 (ipykernel)",
   "language": "python",
   "name": "python3"
  },
  "language_info": {
   "codemirror_mode": {
    "name": "ipython",
    "version": 3
   },
   "file_extension": ".py",
   "mimetype": "text/x-python",
   "name": "python",
   "nbconvert_exporter": "python",
   "pygments_lexer": "ipython3",
   "version": "3.10.2"
  }
 },
 "nbformat": 4,
 "nbformat_minor": 5
}
