{
 "cells": [
  {
   "cell_type": "code",
   "execution_count": 135,
   "id": "aa777405",
   "metadata": {},
   "outputs": [],
   "source": [
    "import pandas as pd\n",
    "import numpy as np\n",
    "import xgboost as xgb"
   ]
  },
  {
   "cell_type": "code",
   "execution_count": 136,
   "id": "d0d98367",
   "metadata": {},
   "outputs": [],
   "source": [
    "df = pd.read_csv('powerconsumption.csv')"
   ]
  },
  {
   "cell_type": "code",
   "execution_count": 137,
   "id": "62fffeed",
   "metadata": {},
   "outputs": [],
   "source": [
    "df = df[['Datetime','PowerConsumption_Zone1']]"
   ]
  },
  {
   "cell_type": "code",
   "execution_count": 138,
   "id": "54e9dc69",
   "metadata": {},
   "outputs": [],
   "source": [
    "df['Datetime']=pd.to_datetime(df['Datetime'])"
   ]
  },
  {
   "cell_type": "code",
   "execution_count": 139,
   "id": "744e02cc",
   "metadata": {
    "scrolled": true
   },
   "outputs": [],
   "source": [
    "df.set_index('Datetime',inplace=True)"
   ]
  },
  {
   "cell_type": "code",
   "execution_count": 140,
   "id": "56005d32",
   "metadata": {},
   "outputs": [],
   "source": [
    "df = df.resample('H').sum()"
   ]
  },
  {
   "cell_type": "code",
   "execution_count": 141,
   "id": "2c854550",
   "metadata": {},
   "outputs": [],
   "source": [
    "df.reset_index(inplace=True)"
   ]
  },
  {
   "cell_type": "code",
   "execution_count": 142,
   "id": "c0c370e3",
   "metadata": {},
   "outputs": [
    {
     "data": {
      "text/html": [
       "<div>\n",
       "<style scoped>\n",
       "    .dataframe tbody tr th:only-of-type {\n",
       "        vertical-align: middle;\n",
       "    }\n",
       "\n",
       "    .dataframe tbody tr th {\n",
       "        vertical-align: top;\n",
       "    }\n",
       "\n",
       "    .dataframe thead th {\n",
       "        text-align: right;\n",
       "    }\n",
       "</style>\n",
       "<table border=\"1\" class=\"dataframe\">\n",
       "  <thead>\n",
       "    <tr style=\"text-align: right;\">\n",
       "      <th></th>\n",
       "      <th>Datetime</th>\n",
       "      <th>PowerConsumption_Zone1</th>\n",
       "    </tr>\n",
       "  </thead>\n",
       "  <tbody>\n",
       "    <tr>\n",
       "      <th>0</th>\n",
       "      <td>2017-01-01 00:00:00</td>\n",
       "      <td>175187.84810</td>\n",
       "    </tr>\n",
       "    <tr>\n",
       "      <th>1</th>\n",
       "      <td>2017-01-01 01:00:00</td>\n",
       "      <td>147943.29114</td>\n",
       "    </tr>\n",
       "    <tr>\n",
       "      <th>2</th>\n",
       "      <td>2017-01-01 02:00:00</td>\n",
       "      <td>132498.22784</td>\n",
       "    </tr>\n",
       "    <tr>\n",
       "      <th>3</th>\n",
       "      <td>2017-01-01 03:00:00</td>\n",
       "      <td>124866.83544</td>\n",
       "    </tr>\n",
       "    <tr>\n",
       "      <th>4</th>\n",
       "      <td>2017-01-01 04:00:00</td>\n",
       "      <td>122855.69620</td>\n",
       "    </tr>\n",
       "    <tr>\n",
       "      <th>...</th>\n",
       "      <td>...</td>\n",
       "      <td>...</td>\n",
       "    </tr>\n",
       "    <tr>\n",
       "      <th>8731</th>\n",
       "      <td>2017-12-30 19:00:00</td>\n",
       "      <td>225082.88974</td>\n",
       "    </tr>\n",
       "    <tr>\n",
       "      <th>8732</th>\n",
       "      <td>2017-12-30 20:00:00</td>\n",
       "      <td>222053.23193</td>\n",
       "    </tr>\n",
       "    <tr>\n",
       "      <th>8733</th>\n",
       "      <td>2017-12-30 21:00:00</td>\n",
       "      <td>212149.04943</td>\n",
       "    </tr>\n",
       "    <tr>\n",
       "      <th>8734</th>\n",
       "      <td>2017-12-30 22:00:00</td>\n",
       "      <td>203960.45628</td>\n",
       "    </tr>\n",
       "    <tr>\n",
       "      <th>8735</th>\n",
       "      <td>2017-12-30 23:00:00</td>\n",
       "      <td>180647.90873</td>\n",
       "    </tr>\n",
       "  </tbody>\n",
       "</table>\n",
       "<p>8736 rows × 2 columns</p>\n",
       "</div>"
      ],
      "text/plain": [
       "                Datetime  PowerConsumption_Zone1\n",
       "0    2017-01-01 00:00:00            175187.84810\n",
       "1    2017-01-01 01:00:00            147943.29114\n",
       "2    2017-01-01 02:00:00            132498.22784\n",
       "3    2017-01-01 03:00:00            124866.83544\n",
       "4    2017-01-01 04:00:00            122855.69620\n",
       "...                  ...                     ...\n",
       "8731 2017-12-30 19:00:00            225082.88974\n",
       "8732 2017-12-30 20:00:00            222053.23193\n",
       "8733 2017-12-30 21:00:00            212149.04943\n",
       "8734 2017-12-30 22:00:00            203960.45628\n",
       "8735 2017-12-30 23:00:00            180647.90873\n",
       "\n",
       "[8736 rows x 2 columns]"
      ]
     },
     "execution_count": 142,
     "metadata": {},
     "output_type": "execute_result"
    }
   ],
   "source": [
    "df"
   ]
  },
  {
   "cell_type": "code",
   "execution_count": 143,
   "id": "4fe4bbca",
   "metadata": {},
   "outputs": [],
   "source": [
    "df['Hour']=df['Datetime'].dt.hour\n",
    "df['Month']=df['Datetime'].dt.month\n",
    "df['Dayofweek']=df['Datetime'].dt.dayofweek"
   ]
  },
  {
   "cell_type": "code",
   "execution_count": 144,
   "id": "46144a02",
   "metadata": {},
   "outputs": [
    {
     "data": {
      "text/html": [
       "<div>\n",
       "<style scoped>\n",
       "    .dataframe tbody tr th:only-of-type {\n",
       "        vertical-align: middle;\n",
       "    }\n",
       "\n",
       "    .dataframe tbody tr th {\n",
       "        vertical-align: top;\n",
       "    }\n",
       "\n",
       "    .dataframe thead th {\n",
       "        text-align: right;\n",
       "    }\n",
       "</style>\n",
       "<table border=\"1\" class=\"dataframe\">\n",
       "  <thead>\n",
       "    <tr style=\"text-align: right;\">\n",
       "      <th></th>\n",
       "      <th>Datetime</th>\n",
       "      <th>Hour</th>\n",
       "      <th>Month</th>\n",
       "      <th>Dayofweek</th>\n",
       "    </tr>\n",
       "  </thead>\n",
       "  <tbody>\n",
       "    <tr>\n",
       "      <th>0</th>\n",
       "      <td>2017-01-01 00:00:00</td>\n",
       "      <td>0</td>\n",
       "      <td>1</td>\n",
       "      <td>6</td>\n",
       "    </tr>\n",
       "    <tr>\n",
       "      <th>1</th>\n",
       "      <td>2017-01-01 01:00:00</td>\n",
       "      <td>1</td>\n",
       "      <td>1</td>\n",
       "      <td>6</td>\n",
       "    </tr>\n",
       "    <tr>\n",
       "      <th>2</th>\n",
       "      <td>2017-01-01 02:00:00</td>\n",
       "      <td>2</td>\n",
       "      <td>1</td>\n",
       "      <td>6</td>\n",
       "    </tr>\n",
       "    <tr>\n",
       "      <th>3</th>\n",
       "      <td>2017-01-01 03:00:00</td>\n",
       "      <td>3</td>\n",
       "      <td>1</td>\n",
       "      <td>6</td>\n",
       "    </tr>\n",
       "    <tr>\n",
       "      <th>4</th>\n",
       "      <td>2017-01-01 04:00:00</td>\n",
       "      <td>4</td>\n",
       "      <td>1</td>\n",
       "      <td>6</td>\n",
       "    </tr>\n",
       "    <tr>\n",
       "      <th>...</th>\n",
       "      <td>...</td>\n",
       "      <td>...</td>\n",
       "      <td>...</td>\n",
       "      <td>...</td>\n",
       "    </tr>\n",
       "    <tr>\n",
       "      <th>8731</th>\n",
       "      <td>2017-12-30 19:00:00</td>\n",
       "      <td>19</td>\n",
       "      <td>12</td>\n",
       "      <td>5</td>\n",
       "    </tr>\n",
       "    <tr>\n",
       "      <th>8732</th>\n",
       "      <td>2017-12-30 20:00:00</td>\n",
       "      <td>20</td>\n",
       "      <td>12</td>\n",
       "      <td>5</td>\n",
       "    </tr>\n",
       "    <tr>\n",
       "      <th>8733</th>\n",
       "      <td>2017-12-30 21:00:00</td>\n",
       "      <td>21</td>\n",
       "      <td>12</td>\n",
       "      <td>5</td>\n",
       "    </tr>\n",
       "    <tr>\n",
       "      <th>8734</th>\n",
       "      <td>2017-12-30 22:00:00</td>\n",
       "      <td>22</td>\n",
       "      <td>12</td>\n",
       "      <td>5</td>\n",
       "    </tr>\n",
       "    <tr>\n",
       "      <th>8735</th>\n",
       "      <td>2017-12-30 23:00:00</td>\n",
       "      <td>23</td>\n",
       "      <td>12</td>\n",
       "      <td>5</td>\n",
       "    </tr>\n",
       "  </tbody>\n",
       "</table>\n",
       "<p>8736 rows × 4 columns</p>\n",
       "</div>"
      ],
      "text/plain": [
       "                Datetime  Hour  Month  Dayofweek\n",
       "0    2017-01-01 00:00:00     0      1          6\n",
       "1    2017-01-01 01:00:00     1      1          6\n",
       "2    2017-01-01 02:00:00     2      1          6\n",
       "3    2017-01-01 03:00:00     3      1          6\n",
       "4    2017-01-01 04:00:00     4      1          6\n",
       "...                  ...   ...    ...        ...\n",
       "8731 2017-12-30 19:00:00    19     12          5\n",
       "8732 2017-12-30 20:00:00    20     12          5\n",
       "8733 2017-12-30 21:00:00    21     12          5\n",
       "8734 2017-12-30 22:00:00    22     12          5\n",
       "8735 2017-12-30 23:00:00    23     12          5\n",
       "\n",
       "[8736 rows x 4 columns]"
      ]
     },
     "execution_count": 144,
     "metadata": {},
     "output_type": "execute_result"
    }
   ],
   "source": [
    "df[['Datetime','Hour','Month','Dayofweek']]"
   ]
  },
  {
   "cell_type": "code",
   "execution_count": 145,
   "id": "a58f756c",
   "metadata": {},
   "outputs": [],
   "source": [
    "columns_to_encode = ['Hour', 'Month', 'Dayofweek']"
   ]
  },
  {
   "cell_type": "code",
   "execution_count": 146,
   "id": "9ce9ca84",
   "metadata": {
    "scrolled": true
   },
   "outputs": [],
   "source": [
    "df = pd.get_dummies(df, columns=columns_to_encode,dtype=int)"
   ]
  },
  {
   "cell_type": "code",
   "execution_count": 147,
   "id": "91a5afa4",
   "metadata": {},
   "outputs": [
    {
     "data": {
      "text/html": [
       "<div>\n",
       "<style scoped>\n",
       "    .dataframe tbody tr th:only-of-type {\n",
       "        vertical-align: middle;\n",
       "    }\n",
       "\n",
       "    .dataframe tbody tr th {\n",
       "        vertical-align: top;\n",
       "    }\n",
       "\n",
       "    .dataframe thead th {\n",
       "        text-align: right;\n",
       "    }\n",
       "</style>\n",
       "<table border=\"1\" class=\"dataframe\">\n",
       "  <thead>\n",
       "    <tr style=\"text-align: right;\">\n",
       "      <th></th>\n",
       "      <th>Datetime</th>\n",
       "      <th>PowerConsumption_Zone1</th>\n",
       "      <th>Hour_0</th>\n",
       "      <th>Hour_1</th>\n",
       "      <th>Hour_2</th>\n",
       "      <th>Hour_3</th>\n",
       "      <th>Hour_4</th>\n",
       "      <th>Hour_5</th>\n",
       "      <th>Hour_6</th>\n",
       "      <th>Hour_7</th>\n",
       "      <th>...</th>\n",
       "      <th>Month_10</th>\n",
       "      <th>Month_11</th>\n",
       "      <th>Month_12</th>\n",
       "      <th>Dayofweek_0</th>\n",
       "      <th>Dayofweek_1</th>\n",
       "      <th>Dayofweek_2</th>\n",
       "      <th>Dayofweek_3</th>\n",
       "      <th>Dayofweek_4</th>\n",
       "      <th>Dayofweek_5</th>\n",
       "      <th>Dayofweek_6</th>\n",
       "    </tr>\n",
       "  </thead>\n",
       "  <tbody>\n",
       "    <tr>\n",
       "      <th>0</th>\n",
       "      <td>2017-01-01 00:00:00</td>\n",
       "      <td>175187.84810</td>\n",
       "      <td>1</td>\n",
       "      <td>0</td>\n",
       "      <td>0</td>\n",
       "      <td>0</td>\n",
       "      <td>0</td>\n",
       "      <td>0</td>\n",
       "      <td>0</td>\n",
       "      <td>0</td>\n",
       "      <td>...</td>\n",
       "      <td>0</td>\n",
       "      <td>0</td>\n",
       "      <td>0</td>\n",
       "      <td>0</td>\n",
       "      <td>0</td>\n",
       "      <td>0</td>\n",
       "      <td>0</td>\n",
       "      <td>0</td>\n",
       "      <td>0</td>\n",
       "      <td>1</td>\n",
       "    </tr>\n",
       "    <tr>\n",
       "      <th>1</th>\n",
       "      <td>2017-01-01 01:00:00</td>\n",
       "      <td>147943.29114</td>\n",
       "      <td>0</td>\n",
       "      <td>1</td>\n",
       "      <td>0</td>\n",
       "      <td>0</td>\n",
       "      <td>0</td>\n",
       "      <td>0</td>\n",
       "      <td>0</td>\n",
       "      <td>0</td>\n",
       "      <td>...</td>\n",
       "      <td>0</td>\n",
       "      <td>0</td>\n",
       "      <td>0</td>\n",
       "      <td>0</td>\n",
       "      <td>0</td>\n",
       "      <td>0</td>\n",
       "      <td>0</td>\n",
       "      <td>0</td>\n",
       "      <td>0</td>\n",
       "      <td>1</td>\n",
       "    </tr>\n",
       "    <tr>\n",
       "      <th>2</th>\n",
       "      <td>2017-01-01 02:00:00</td>\n",
       "      <td>132498.22784</td>\n",
       "      <td>0</td>\n",
       "      <td>0</td>\n",
       "      <td>1</td>\n",
       "      <td>0</td>\n",
       "      <td>0</td>\n",
       "      <td>0</td>\n",
       "      <td>0</td>\n",
       "      <td>0</td>\n",
       "      <td>...</td>\n",
       "      <td>0</td>\n",
       "      <td>0</td>\n",
       "      <td>0</td>\n",
       "      <td>0</td>\n",
       "      <td>0</td>\n",
       "      <td>0</td>\n",
       "      <td>0</td>\n",
       "      <td>0</td>\n",
       "      <td>0</td>\n",
       "      <td>1</td>\n",
       "    </tr>\n",
       "    <tr>\n",
       "      <th>3</th>\n",
       "      <td>2017-01-01 03:00:00</td>\n",
       "      <td>124866.83544</td>\n",
       "      <td>0</td>\n",
       "      <td>0</td>\n",
       "      <td>0</td>\n",
       "      <td>1</td>\n",
       "      <td>0</td>\n",
       "      <td>0</td>\n",
       "      <td>0</td>\n",
       "      <td>0</td>\n",
       "      <td>...</td>\n",
       "      <td>0</td>\n",
       "      <td>0</td>\n",
       "      <td>0</td>\n",
       "      <td>0</td>\n",
       "      <td>0</td>\n",
       "      <td>0</td>\n",
       "      <td>0</td>\n",
       "      <td>0</td>\n",
       "      <td>0</td>\n",
       "      <td>1</td>\n",
       "    </tr>\n",
       "    <tr>\n",
       "      <th>4</th>\n",
       "      <td>2017-01-01 04:00:00</td>\n",
       "      <td>122855.69620</td>\n",
       "      <td>0</td>\n",
       "      <td>0</td>\n",
       "      <td>0</td>\n",
       "      <td>0</td>\n",
       "      <td>1</td>\n",
       "      <td>0</td>\n",
       "      <td>0</td>\n",
       "      <td>0</td>\n",
       "      <td>...</td>\n",
       "      <td>0</td>\n",
       "      <td>0</td>\n",
       "      <td>0</td>\n",
       "      <td>0</td>\n",
       "      <td>0</td>\n",
       "      <td>0</td>\n",
       "      <td>0</td>\n",
       "      <td>0</td>\n",
       "      <td>0</td>\n",
       "      <td>1</td>\n",
       "    </tr>\n",
       "  </tbody>\n",
       "</table>\n",
       "<p>5 rows × 45 columns</p>\n",
       "</div>"
      ],
      "text/plain": [
       "             Datetime  PowerConsumption_Zone1  Hour_0  Hour_1  Hour_2  Hour_3  \\\n",
       "0 2017-01-01 00:00:00            175187.84810       1       0       0       0   \n",
       "1 2017-01-01 01:00:00            147943.29114       0       1       0       0   \n",
       "2 2017-01-01 02:00:00            132498.22784       0       0       1       0   \n",
       "3 2017-01-01 03:00:00            124866.83544       0       0       0       1   \n",
       "4 2017-01-01 04:00:00            122855.69620       0       0       0       0   \n",
       "\n",
       "   Hour_4  Hour_5  Hour_6  Hour_7  ...  Month_10  Month_11  Month_12  \\\n",
       "0       0       0       0       0  ...         0         0         0   \n",
       "1       0       0       0       0  ...         0         0         0   \n",
       "2       0       0       0       0  ...         0         0         0   \n",
       "3       0       0       0       0  ...         0         0         0   \n",
       "4       1       0       0       0  ...         0         0         0   \n",
       "\n",
       "   Dayofweek_0  Dayofweek_1  Dayofweek_2  Dayofweek_3  Dayofweek_4  \\\n",
       "0            0            0            0            0            0   \n",
       "1            0            0            0            0            0   \n",
       "2            0            0            0            0            0   \n",
       "3            0            0            0            0            0   \n",
       "4            0            0            0            0            0   \n",
       "\n",
       "   Dayofweek_5  Dayofweek_6  \n",
       "0            0            1  \n",
       "1            0            1  \n",
       "2            0            1  \n",
       "3            0            1  \n",
       "4            0            1  \n",
       "\n",
       "[5 rows x 45 columns]"
      ]
     },
     "execution_count": 147,
     "metadata": {},
     "output_type": "execute_result"
    }
   ],
   "source": [
    "df.head()"
   ]
  },
  {
   "cell_type": "code",
   "execution_count": 148,
   "id": "99b29d0c",
   "metadata": {},
   "outputs": [],
   "source": [
    "from sklearn.ensemble import RandomForestRegressor\n",
    "from sklearn.model_selection import train_test_split"
   ]
  },
  {
   "cell_type": "code",
   "execution_count": 149,
   "id": "6b085989",
   "metadata": {},
   "outputs": [],
   "source": [
    "y_col=\"PowerConsumption_Zone1\"\n",
    "train_size = int(df.shape[0] * 0.8)"
   ]
  },
  {
   "cell_type": "code",
   "execution_count": 150,
   "id": "81a731f0",
   "metadata": {},
   "outputs": [],
   "source": [
    "features = df.drop([y_col,\"Datetime\"],axis=1).columns"
   ]
  },
  {
   "cell_type": "code",
   "execution_count": 151,
   "id": "073b10d8",
   "metadata": {},
   "outputs": [
    {
     "data": {
      "text/plain": [
       "Index(['Hour_0', 'Hour_1', 'Hour_2', 'Hour_3', 'Hour_4', 'Hour_5', 'Hour_6',\n",
       "       'Hour_7', 'Hour_8', 'Hour_9', 'Hour_10', 'Hour_11', 'Hour_12',\n",
       "       'Hour_13', 'Hour_14', 'Hour_15', 'Hour_16', 'Hour_17', 'Hour_18',\n",
       "       'Hour_19', 'Hour_20', 'Hour_21', 'Hour_22', 'Hour_23', 'Month_1',\n",
       "       'Month_2', 'Month_3', 'Month_4', 'Month_5', 'Month_6', 'Month_7',\n",
       "       'Month_8', 'Month_9', 'Month_10', 'Month_11', 'Month_12', 'Dayofweek_0',\n",
       "       'Dayofweek_1', 'Dayofweek_2', 'Dayofweek_3', 'Dayofweek_4',\n",
       "       'Dayofweek_5', 'Dayofweek_6'],\n",
       "      dtype='object')"
      ]
     },
     "execution_count": 151,
     "metadata": {},
     "output_type": "execute_result"
    }
   ],
   "source": [
    "features"
   ]
  },
  {
   "cell_type": "code",
   "execution_count": 152,
   "id": "03ad1261",
   "metadata": {},
   "outputs": [],
   "source": [
    "df_train = df.iloc[0:train_size]\n",
    "df_test = df.iloc[train_size:]"
   ]
  },
  {
   "cell_type": "code",
   "execution_count": 153,
   "id": "f308cfa8",
   "metadata": {},
   "outputs": [],
   "source": [
    "X_train = df_train[features]\n",
    "y_train = df_train[y_col]\n",
    "X_test = df_test[features]\n",
    "y_test = df_test[y_col]"
   ]
  },
  {
   "cell_type": "code",
   "execution_count": 154,
   "id": "5ea9aeec",
   "metadata": {},
   "outputs": [],
   "source": [
    "rf = RandomForestRegressor() #xgb.XGBRegressor()"
   ]
  },
  {
   "cell_type": "code",
   "execution_count": 155,
   "id": "fa184ea3",
   "metadata": {},
   "outputs": [
    {
     "data": {
      "text/plain": [
       "RandomForestRegressor()"
      ]
     },
     "execution_count": 155,
     "metadata": {},
     "output_type": "execute_result"
    }
   ],
   "source": [
    "rf.fit(X_train,y_train)"
   ]
  },
  {
   "cell_type": "code",
   "execution_count": 156,
   "id": "62daf709",
   "metadata": {},
   "outputs": [],
   "source": [
    "predicted_test = rf.predict(X_test)"
   ]
  },
  {
   "cell_type": "code",
   "execution_count": 157,
   "id": "d1699c56",
   "metadata": {},
   "outputs": [],
   "source": [
    "from sklearn.metrics import r2_score, mean_squared_error"
   ]
  },
  {
   "cell_type": "code",
   "execution_count": 158,
   "id": "9270f0bb",
   "metadata": {},
   "outputs": [],
   "source": [
    "r2 = r2_score(y_test.values,predicted_test)"
   ]
  },
  {
   "cell_type": "code",
   "execution_count": 159,
   "id": "27f9bf54",
   "metadata": {},
   "outputs": [
    {
     "data": {
      "text/plain": [
       "0.7112377338779845"
      ]
     },
     "execution_count": 159,
     "metadata": {},
     "output_type": "execute_result"
    }
   ],
   "source": [
    "r2"
   ]
  },
  {
   "cell_type": "code",
   "execution_count": 160,
   "id": "fabe47da",
   "metadata": {},
   "outputs": [],
   "source": [
    "rmse = mean_squared_error(y_test.values,predicted_test,squared=False)"
   ]
  },
  {
   "cell_type": "code",
   "execution_count": 161,
   "id": "cbb621b9",
   "metadata": {},
   "outputs": [
    {
     "data": {
      "text/plain": [
       "19683.543808360893"
      ]
     },
     "execution_count": 161,
     "metadata": {},
     "output_type": "execute_result"
    }
   ],
   "source": [
    "rmse"
   ]
  },
  {
   "cell_type": "code",
   "execution_count": 110,
   "id": "2f3ffd08",
   "metadata": {
    "scrolled": true
   },
   "outputs": [
    {
     "data": {
      "text/html": [
       "<div>\n",
       "<style scoped>\n",
       "    .dataframe tbody tr th:only-of-type {\n",
       "        vertical-align: middle;\n",
       "    }\n",
       "\n",
       "    .dataframe tbody tr th {\n",
       "        vertical-align: top;\n",
       "    }\n",
       "\n",
       "    .dataframe thead th {\n",
       "        text-align: right;\n",
       "    }\n",
       "</style>\n",
       "<table border=\"1\" class=\"dataframe\">\n",
       "  <thead>\n",
       "    <tr style=\"text-align: right;\">\n",
       "      <th></th>\n",
       "      <th>Datetime</th>\n",
       "      <th>PowerConsumption_Zone1</th>\n",
       "      <th>Hour_0</th>\n",
       "      <th>Hour_1</th>\n",
       "      <th>Hour_2</th>\n",
       "      <th>Hour_3</th>\n",
       "      <th>Hour_4</th>\n",
       "      <th>Hour_5</th>\n",
       "      <th>Hour_6</th>\n",
       "      <th>Hour_7</th>\n",
       "      <th>...</th>\n",
       "      <th>Month_10</th>\n",
       "      <th>Month_11</th>\n",
       "      <th>Month_12</th>\n",
       "      <th>Dayofweek_0</th>\n",
       "      <th>Dayofweek_1</th>\n",
       "      <th>Dayofweek_2</th>\n",
       "      <th>Dayofweek_3</th>\n",
       "      <th>Dayofweek_4</th>\n",
       "      <th>Dayofweek_5</th>\n",
       "      <th>Dayofweek_6</th>\n",
       "    </tr>\n",
       "  </thead>\n",
       "  <tbody>\n",
       "    <tr>\n",
       "      <th>0</th>\n",
       "      <td>2017-01-01 00:00:00</td>\n",
       "      <td>175187.84810</td>\n",
       "      <td>1</td>\n",
       "      <td>0</td>\n",
       "      <td>0</td>\n",
       "      <td>0</td>\n",
       "      <td>0</td>\n",
       "      <td>0</td>\n",
       "      <td>0</td>\n",
       "      <td>0</td>\n",
       "      <td>...</td>\n",
       "      <td>0</td>\n",
       "      <td>0</td>\n",
       "      <td>0</td>\n",
       "      <td>0</td>\n",
       "      <td>0</td>\n",
       "      <td>0</td>\n",
       "      <td>0</td>\n",
       "      <td>0</td>\n",
       "      <td>0</td>\n",
       "      <td>1</td>\n",
       "    </tr>\n",
       "    <tr>\n",
       "      <th>1</th>\n",
       "      <td>2017-01-01 01:00:00</td>\n",
       "      <td>147943.29114</td>\n",
       "      <td>0</td>\n",
       "      <td>1</td>\n",
       "      <td>0</td>\n",
       "      <td>0</td>\n",
       "      <td>0</td>\n",
       "      <td>0</td>\n",
       "      <td>0</td>\n",
       "      <td>0</td>\n",
       "      <td>...</td>\n",
       "      <td>0</td>\n",
       "      <td>0</td>\n",
       "      <td>0</td>\n",
       "      <td>0</td>\n",
       "      <td>0</td>\n",
       "      <td>0</td>\n",
       "      <td>0</td>\n",
       "      <td>0</td>\n",
       "      <td>0</td>\n",
       "      <td>1</td>\n",
       "    </tr>\n",
       "    <tr>\n",
       "      <th>2</th>\n",
       "      <td>2017-01-01 02:00:00</td>\n",
       "      <td>132498.22784</td>\n",
       "      <td>0</td>\n",
       "      <td>0</td>\n",
       "      <td>1</td>\n",
       "      <td>0</td>\n",
       "      <td>0</td>\n",
       "      <td>0</td>\n",
       "      <td>0</td>\n",
       "      <td>0</td>\n",
       "      <td>...</td>\n",
       "      <td>0</td>\n",
       "      <td>0</td>\n",
       "      <td>0</td>\n",
       "      <td>0</td>\n",
       "      <td>0</td>\n",
       "      <td>0</td>\n",
       "      <td>0</td>\n",
       "      <td>0</td>\n",
       "      <td>0</td>\n",
       "      <td>1</td>\n",
       "    </tr>\n",
       "    <tr>\n",
       "      <th>3</th>\n",
       "      <td>2017-01-01 03:00:00</td>\n",
       "      <td>124866.83544</td>\n",
       "      <td>0</td>\n",
       "      <td>0</td>\n",
       "      <td>0</td>\n",
       "      <td>1</td>\n",
       "      <td>0</td>\n",
       "      <td>0</td>\n",
       "      <td>0</td>\n",
       "      <td>0</td>\n",
       "      <td>...</td>\n",
       "      <td>0</td>\n",
       "      <td>0</td>\n",
       "      <td>0</td>\n",
       "      <td>0</td>\n",
       "      <td>0</td>\n",
       "      <td>0</td>\n",
       "      <td>0</td>\n",
       "      <td>0</td>\n",
       "      <td>0</td>\n",
       "      <td>1</td>\n",
       "    </tr>\n",
       "    <tr>\n",
       "      <th>4</th>\n",
       "      <td>2017-01-01 04:00:00</td>\n",
       "      <td>122855.69620</td>\n",
       "      <td>0</td>\n",
       "      <td>0</td>\n",
       "      <td>0</td>\n",
       "      <td>0</td>\n",
       "      <td>1</td>\n",
       "      <td>0</td>\n",
       "      <td>0</td>\n",
       "      <td>0</td>\n",
       "      <td>...</td>\n",
       "      <td>0</td>\n",
       "      <td>0</td>\n",
       "      <td>0</td>\n",
       "      <td>0</td>\n",
       "      <td>0</td>\n",
       "      <td>0</td>\n",
       "      <td>0</td>\n",
       "      <td>0</td>\n",
       "      <td>0</td>\n",
       "      <td>1</td>\n",
       "    </tr>\n",
       "    <tr>\n",
       "      <th>...</th>\n",
       "      <td>...</td>\n",
       "      <td>...</td>\n",
       "      <td>...</td>\n",
       "      <td>...</td>\n",
       "      <td>...</td>\n",
       "      <td>...</td>\n",
       "      <td>...</td>\n",
       "      <td>...</td>\n",
       "      <td>...</td>\n",
       "      <td>...</td>\n",
       "      <td>...</td>\n",
       "      <td>...</td>\n",
       "      <td>...</td>\n",
       "      <td>...</td>\n",
       "      <td>...</td>\n",
       "      <td>...</td>\n",
       "      <td>...</td>\n",
       "      <td>...</td>\n",
       "      <td>...</td>\n",
       "      <td>...</td>\n",
       "      <td>...</td>\n",
       "    </tr>\n",
       "    <tr>\n",
       "      <th>8731</th>\n",
       "      <td>2017-12-30 19:00:00</td>\n",
       "      <td>225082.88974</td>\n",
       "      <td>0</td>\n",
       "      <td>0</td>\n",
       "      <td>0</td>\n",
       "      <td>0</td>\n",
       "      <td>0</td>\n",
       "      <td>0</td>\n",
       "      <td>0</td>\n",
       "      <td>0</td>\n",
       "      <td>...</td>\n",
       "      <td>0</td>\n",
       "      <td>0</td>\n",
       "      <td>1</td>\n",
       "      <td>0</td>\n",
       "      <td>0</td>\n",
       "      <td>0</td>\n",
       "      <td>0</td>\n",
       "      <td>0</td>\n",
       "      <td>1</td>\n",
       "      <td>0</td>\n",
       "    </tr>\n",
       "    <tr>\n",
       "      <th>8732</th>\n",
       "      <td>2017-12-30 20:00:00</td>\n",
       "      <td>222053.23193</td>\n",
       "      <td>0</td>\n",
       "      <td>0</td>\n",
       "      <td>0</td>\n",
       "      <td>0</td>\n",
       "      <td>0</td>\n",
       "      <td>0</td>\n",
       "      <td>0</td>\n",
       "      <td>0</td>\n",
       "      <td>...</td>\n",
       "      <td>0</td>\n",
       "      <td>0</td>\n",
       "      <td>1</td>\n",
       "      <td>0</td>\n",
       "      <td>0</td>\n",
       "      <td>0</td>\n",
       "      <td>0</td>\n",
       "      <td>0</td>\n",
       "      <td>1</td>\n",
       "      <td>0</td>\n",
       "    </tr>\n",
       "    <tr>\n",
       "      <th>8733</th>\n",
       "      <td>2017-12-30 21:00:00</td>\n",
       "      <td>212149.04943</td>\n",
       "      <td>0</td>\n",
       "      <td>0</td>\n",
       "      <td>0</td>\n",
       "      <td>0</td>\n",
       "      <td>0</td>\n",
       "      <td>0</td>\n",
       "      <td>0</td>\n",
       "      <td>0</td>\n",
       "      <td>...</td>\n",
       "      <td>0</td>\n",
       "      <td>0</td>\n",
       "      <td>1</td>\n",
       "      <td>0</td>\n",
       "      <td>0</td>\n",
       "      <td>0</td>\n",
       "      <td>0</td>\n",
       "      <td>0</td>\n",
       "      <td>1</td>\n",
       "      <td>0</td>\n",
       "    </tr>\n",
       "    <tr>\n",
       "      <th>8734</th>\n",
       "      <td>2017-12-30 22:00:00</td>\n",
       "      <td>203960.45628</td>\n",
       "      <td>0</td>\n",
       "      <td>0</td>\n",
       "      <td>0</td>\n",
       "      <td>0</td>\n",
       "      <td>0</td>\n",
       "      <td>0</td>\n",
       "      <td>0</td>\n",
       "      <td>0</td>\n",
       "      <td>...</td>\n",
       "      <td>0</td>\n",
       "      <td>0</td>\n",
       "      <td>1</td>\n",
       "      <td>0</td>\n",
       "      <td>0</td>\n",
       "      <td>0</td>\n",
       "      <td>0</td>\n",
       "      <td>0</td>\n",
       "      <td>1</td>\n",
       "      <td>0</td>\n",
       "    </tr>\n",
       "    <tr>\n",
       "      <th>8735</th>\n",
       "      <td>2017-12-30 23:00:00</td>\n",
       "      <td>180647.90873</td>\n",
       "      <td>0</td>\n",
       "      <td>0</td>\n",
       "      <td>0</td>\n",
       "      <td>0</td>\n",
       "      <td>0</td>\n",
       "      <td>0</td>\n",
       "      <td>0</td>\n",
       "      <td>0</td>\n",
       "      <td>...</td>\n",
       "      <td>0</td>\n",
       "      <td>0</td>\n",
       "      <td>1</td>\n",
       "      <td>0</td>\n",
       "      <td>0</td>\n",
       "      <td>0</td>\n",
       "      <td>0</td>\n",
       "      <td>0</td>\n",
       "      <td>1</td>\n",
       "      <td>0</td>\n",
       "    </tr>\n",
       "  </tbody>\n",
       "</table>\n",
       "<p>8736 rows × 45 columns</p>\n",
       "</div>"
      ],
      "text/plain": [
       "                Datetime  PowerConsumption_Zone1  Hour_0  Hour_1  Hour_2  \\\n",
       "0    2017-01-01 00:00:00            175187.84810       1       0       0   \n",
       "1    2017-01-01 01:00:00            147943.29114       0       1       0   \n",
       "2    2017-01-01 02:00:00            132498.22784       0       0       1   \n",
       "3    2017-01-01 03:00:00            124866.83544       0       0       0   \n",
       "4    2017-01-01 04:00:00            122855.69620       0       0       0   \n",
       "...                  ...                     ...     ...     ...     ...   \n",
       "8731 2017-12-30 19:00:00            225082.88974       0       0       0   \n",
       "8732 2017-12-30 20:00:00            222053.23193       0       0       0   \n",
       "8733 2017-12-30 21:00:00            212149.04943       0       0       0   \n",
       "8734 2017-12-30 22:00:00            203960.45628       0       0       0   \n",
       "8735 2017-12-30 23:00:00            180647.90873       0       0       0   \n",
       "\n",
       "      Hour_3  Hour_4  Hour_5  Hour_6  Hour_7  ...  Month_10  Month_11  \\\n",
       "0          0       0       0       0       0  ...         0         0   \n",
       "1          0       0       0       0       0  ...         0         0   \n",
       "2          0       0       0       0       0  ...         0         0   \n",
       "3          1       0       0       0       0  ...         0         0   \n",
       "4          0       1       0       0       0  ...         0         0   \n",
       "...      ...     ...     ...     ...     ...  ...       ...       ...   \n",
       "8731       0       0       0       0       0  ...         0         0   \n",
       "8732       0       0       0       0       0  ...         0         0   \n",
       "8733       0       0       0       0       0  ...         0         0   \n",
       "8734       0       0       0       0       0  ...         0         0   \n",
       "8735       0       0       0       0       0  ...         0         0   \n",
       "\n",
       "      Month_12  Dayofweek_0  Dayofweek_1  Dayofweek_2  Dayofweek_3  \\\n",
       "0            0            0            0            0            0   \n",
       "1            0            0            0            0            0   \n",
       "2            0            0            0            0            0   \n",
       "3            0            0            0            0            0   \n",
       "4            0            0            0            0            0   \n",
       "...        ...          ...          ...          ...          ...   \n",
       "8731         1            0            0            0            0   \n",
       "8732         1            0            0            0            0   \n",
       "8733         1            0            0            0            0   \n",
       "8734         1            0            0            0            0   \n",
       "8735         1            0            0            0            0   \n",
       "\n",
       "      Dayofweek_4  Dayofweek_5  Dayofweek_6  \n",
       "0               0            0            1  \n",
       "1               0            0            1  \n",
       "2               0            0            1  \n",
       "3               0            0            1  \n",
       "4               0            0            1  \n",
       "...           ...          ...          ...  \n",
       "8731            0            1            0  \n",
       "8732            0            1            0  \n",
       "8733            0            1            0  \n",
       "8734            0            1            0  \n",
       "8735            0            1            0  \n",
       "\n",
       "[8736 rows x 45 columns]"
      ]
     },
     "execution_count": 110,
     "metadata": {},
     "output_type": "execute_result"
    }
   ],
   "source": [
    "df"
   ]
  },
  {
   "cell_type": "code",
   "execution_count": 162,
   "id": "7ce54765",
   "metadata": {},
   "outputs": [],
   "source": [
    "df_cyclical = df.copy()[['Datetime','PowerConsumption_Zone1']]"
   ]
  },
  {
   "cell_type": "code",
   "execution_count": 163,
   "id": "76174154",
   "metadata": {},
   "outputs": [],
   "source": [
    "df_cyclical['Hour']=df_cyclical['Datetime'].dt.hour\n",
    "df_cyclical['Month']=df_cyclical['Datetime'].dt.month\n",
    "df_cyclical['Dayofweek']=df_cyclical['Datetime'].dt.dayofweek"
   ]
  },
  {
   "cell_type": "code",
   "execution_count": 164,
   "id": "83b9629b",
   "metadata": {},
   "outputs": [],
   "source": [
    "# df_cyclical['Datetime'] = pd.to_datetime(df_cyclical['Datetime'])\n",
    "# timestamp_s = df_cyclical['Datetime'].astype(int) // 10**9"
   ]
  },
  {
   "cell_type": "code",
   "execution_count": 165,
   "id": "2d6c36fc",
   "metadata": {},
   "outputs": [],
   "source": [
    "timestamp_s = df_cyclical['Datetime'].map(pd.Timestamp.timestamp)"
   ]
  },
  {
   "cell_type": "code",
   "execution_count": 200,
   "id": "649999aa",
   "metadata": {},
   "outputs": [
    {
     "data": {
      "text/plain": [
       "0      2017-01-01 00:00:00\n",
       "1      2017-01-01 01:00:00\n",
       "2      2017-01-01 02:00:00\n",
       "3      2017-01-01 03:00:00\n",
       "4      2017-01-01 04:00:00\n",
       "               ...        \n",
       "8731   2017-12-30 19:00:00\n",
       "8732   2017-12-30 20:00:00\n",
       "8733   2017-12-30 21:00:00\n",
       "8734   2017-12-30 22:00:00\n",
       "8735   2017-12-30 23:00:00\n",
       "Name: Datetime, Length: 8736, dtype: datetime64[ns]"
      ]
     },
     "execution_count": 200,
     "metadata": {},
     "output_type": "execute_result"
    }
   ],
   "source": [
    "df_cyclical['Datetime']"
   ]
  },
  {
   "cell_type": "code",
   "execution_count": 115,
   "id": "ba150b94",
   "metadata": {},
   "outputs": [],
   "source": [
    "# df_cyclical['hour_sin'] = np.sin(2 * np.pi * df_cyclical['Hour']/24.0)\n",
    "# df_cyclical['hour_cos'] = np.cos(2 * np.pi * df_cyclical['Hour']/24.0)"
   ]
  },
  {
   "cell_type": "code",
   "execution_count": 116,
   "id": "be3ec93d",
   "metadata": {},
   "outputs": [],
   "source": [
    "def encode(data, col, max_val):\n",
    "    data[col + '_sin'] = np.sin(2 * np.pi * data[col]/max_val)\n",
    "    data[col + '_cos'] = np.cos(2 * np.pi * data[col]/max_val)\n",
    "    return data"
   ]
  },
  {
   "cell_type": "code",
   "execution_count": 117,
   "id": "6869ce91",
   "metadata": {},
   "outputs": [],
   "source": [
    "# df_cyclical = encode(df_cyclical,'Hour',24)\n",
    "# df_cyclical = encode(df_cyclical,'Dayofweek',7)\n",
    "# df_cyclical = encode(df_cyclical,'Month',12)"
   ]
  },
  {
   "cell_type": "code",
   "execution_count": 166,
   "id": "d24a677f",
   "metadata": {},
   "outputs": [],
   "source": [
    "day = 24*60*60\n",
    "week = day*7\n",
    "year = day*(365.2425)"
   ]
  },
  {
   "cell_type": "code",
   "execution_count": 167,
   "id": "8d5d7bd4",
   "metadata": {},
   "outputs": [],
   "source": [
    "df_cyclical['Day_sin'] = np.sin(timestamp_s * (2 * np.pi / day))\n",
    "df_cyclical['Day_cos'] = np.cos(timestamp_s * (2 * np.pi / day))\n",
    "\n",
    "df_cyclical['Week_sin'] = np.sin(timestamp_s * (2 * np.pi / week))\n",
    "df_cyclical['Week_cos'] = np.cos(timestamp_s * (2 * np.pi / week))\n",
    "\n",
    "df_cyclical['Year_sin'] = np.sin(timestamp_s * (2 * np.pi / year))\n",
    "df_cyclical['Year_cos'] = np.cos(timestamp_s * (2 * np.pi / year))"
   ]
  },
  {
   "cell_type": "code",
   "execution_count": 188,
   "id": "5d8ecd0b",
   "metadata": {},
   "outputs": [
    {
     "data": {
      "text/plain": [
       "(8010,)"
      ]
     },
     "execution_count": 188,
     "metadata": {},
     "output_type": "execute_result"
    }
   ],
   "source": [
    "df_cyclical['Day_sin'].unique().shape"
   ]
  },
  {
   "cell_type": "code",
   "execution_count": 187,
   "id": "a14fc0fa",
   "metadata": {},
   "outputs": [
    {
     "data": {
      "text/plain": [
       "(8736,)"
      ]
     },
     "execution_count": 187,
     "metadata": {},
     "output_type": "execute_result"
    }
   ],
   "source": [
    "df_cyclical['Year_sin'].unique().shape"
   ]
  },
  {
   "cell_type": "code",
   "execution_count": 168,
   "id": "1bffe765",
   "metadata": {},
   "outputs": [],
   "source": [
    "df_train = df_cyclical.iloc[0:train_size]\n",
    "df_test = df_cyclical.iloc[train_size:]"
   ]
  },
  {
   "cell_type": "code",
   "execution_count": 169,
   "id": "9843d2a1",
   "metadata": {},
   "outputs": [],
   "source": [
    "features = df_cyclical.drop([y_col,\"Datetime\",\"Hour\",\"Month\",\"Dayofweek\"],axis=1).columns"
   ]
  },
  {
   "cell_type": "code",
   "execution_count": 170,
   "id": "454b07f9",
   "metadata": {},
   "outputs": [
    {
     "data": {
      "text/plain": [
       "Index(['Day_sin', 'Day_cos', 'Week_sin', 'Week_cos', 'Year_sin', 'Year_cos'], dtype='object')"
      ]
     },
     "execution_count": 170,
     "metadata": {},
     "output_type": "execute_result"
    }
   ],
   "source": [
    "features"
   ]
  },
  {
   "cell_type": "code",
   "execution_count": 171,
   "id": "654e2677",
   "metadata": {},
   "outputs": [],
   "source": [
    "X_train = df_train[features]\n",
    "y_train = df_train[y_col]\n",
    "X_test = df_test[features]\n",
    "y_test = df_test[y_col]"
   ]
  },
  {
   "cell_type": "code",
   "execution_count": 179,
   "id": "dbbf9f81",
   "metadata": {},
   "outputs": [],
   "source": [
    "rf1 = RandomForestRegressor()"
   ]
  },
  {
   "cell_type": "code",
   "execution_count": 180,
   "id": "ca727ad9",
   "metadata": {},
   "outputs": [
    {
     "data": {
      "text/plain": [
       "RandomForestRegressor()"
      ]
     },
     "execution_count": 180,
     "metadata": {},
     "output_type": "execute_result"
    }
   ],
   "source": [
    "rf1.fit(X_train,y_train)"
   ]
  },
  {
   "cell_type": "code",
   "execution_count": 181,
   "id": "464429ee",
   "metadata": {},
   "outputs": [],
   "source": [
    "predicted_test = rf1.predict(X_test)"
   ]
  },
  {
   "cell_type": "code",
   "execution_count": 182,
   "id": "7e089c4f",
   "metadata": {},
   "outputs": [],
   "source": [
    "r2 = r2_score(y_test.values,predicted_test)"
   ]
  },
  {
   "cell_type": "code",
   "execution_count": 183,
   "id": "444c80e2",
   "metadata": {},
   "outputs": [
    {
     "data": {
      "text/plain": [
       "0.5085383900911917"
      ]
     },
     "execution_count": 183,
     "metadata": {},
     "output_type": "execute_result"
    }
   ],
   "source": [
    "r2"
   ]
  },
  {
   "cell_type": "code",
   "execution_count": 184,
   "id": "454d8dad",
   "metadata": {},
   "outputs": [],
   "source": [
    "rmse = mean_squared_error(y_test.values,predicted_test,squared=False)"
   ]
  },
  {
   "cell_type": "code",
   "execution_count": 185,
   "id": "25a66008",
   "metadata": {},
   "outputs": [
    {
     "data": {
      "text/plain": [
       "25678.98596582976"
      ]
     },
     "execution_count": 185,
     "metadata": {},
     "output_type": "execute_result"
    }
   ],
   "source": [
    "rmse"
   ]
  },
  {
   "cell_type": "code",
   "execution_count": 192,
   "id": "bedf07d3",
   "metadata": {},
   "outputs": [],
   "source": [
    "import tensorflow as tf\n",
    "import os"
   ]
  },
  {
   "cell_type": "code",
   "execution_count": 193,
   "id": "fb4cc951",
   "metadata": {},
   "outputs": [],
   "source": [
    "zip_path = tf.keras.utils.get_file(\n",
    "    origin='https://storage.googleapis.com/tensorflow/tf-keras-datasets/jena_climate_2009_2016.csv.zip',\n",
    "    fname='jena_climate_2009_2016.csv.zip',\n",
    "    extract=True)\n",
    "csv_path, _ = os.path.splitext(zip_path)"
   ]
  },
  {
   "cell_type": "code",
   "execution_count": 194,
   "id": "edba0759",
   "metadata": {},
   "outputs": [],
   "source": [
    "df = pd.read_csv(csv_path)"
   ]
  },
  {
   "cell_type": "code",
   "execution_count": 195,
   "id": "9fde8ee3",
   "metadata": {},
   "outputs": [
    {
     "data": {
      "text/html": [
       "<div>\n",
       "<style scoped>\n",
       "    .dataframe tbody tr th:only-of-type {\n",
       "        vertical-align: middle;\n",
       "    }\n",
       "\n",
       "    .dataframe tbody tr th {\n",
       "        vertical-align: top;\n",
       "    }\n",
       "\n",
       "    .dataframe thead th {\n",
       "        text-align: right;\n",
       "    }\n",
       "</style>\n",
       "<table border=\"1\" class=\"dataframe\">\n",
       "  <thead>\n",
       "    <tr style=\"text-align: right;\">\n",
       "      <th></th>\n",
       "      <th>Date Time</th>\n",
       "      <th>p (mbar)</th>\n",
       "      <th>T (degC)</th>\n",
       "      <th>Tpot (K)</th>\n",
       "      <th>Tdew (degC)</th>\n",
       "      <th>rh (%)</th>\n",
       "      <th>VPmax (mbar)</th>\n",
       "      <th>VPact (mbar)</th>\n",
       "      <th>VPdef (mbar)</th>\n",
       "      <th>sh (g/kg)</th>\n",
       "      <th>H2OC (mmol/mol)</th>\n",
       "      <th>rho (g/m**3)</th>\n",
       "      <th>wv (m/s)</th>\n",
       "      <th>max. wv (m/s)</th>\n",
       "      <th>wd (deg)</th>\n",
       "    </tr>\n",
       "  </thead>\n",
       "  <tbody>\n",
       "    <tr>\n",
       "      <th>0</th>\n",
       "      <td>01.01.2009 00:10:00</td>\n",
       "      <td>996.52</td>\n",
       "      <td>-8.02</td>\n",
       "      <td>265.40</td>\n",
       "      <td>-8.90</td>\n",
       "      <td>93.30</td>\n",
       "      <td>3.33</td>\n",
       "      <td>3.11</td>\n",
       "      <td>0.22</td>\n",
       "      <td>1.94</td>\n",
       "      <td>3.12</td>\n",
       "      <td>1307.75</td>\n",
       "      <td>1.03</td>\n",
       "      <td>1.75</td>\n",
       "      <td>152.3</td>\n",
       "    </tr>\n",
       "    <tr>\n",
       "      <th>1</th>\n",
       "      <td>01.01.2009 00:20:00</td>\n",
       "      <td>996.57</td>\n",
       "      <td>-8.41</td>\n",
       "      <td>265.01</td>\n",
       "      <td>-9.28</td>\n",
       "      <td>93.40</td>\n",
       "      <td>3.23</td>\n",
       "      <td>3.02</td>\n",
       "      <td>0.21</td>\n",
       "      <td>1.89</td>\n",
       "      <td>3.03</td>\n",
       "      <td>1309.80</td>\n",
       "      <td>0.72</td>\n",
       "      <td>1.50</td>\n",
       "      <td>136.1</td>\n",
       "    </tr>\n",
       "    <tr>\n",
       "      <th>2</th>\n",
       "      <td>01.01.2009 00:30:00</td>\n",
       "      <td>996.53</td>\n",
       "      <td>-8.51</td>\n",
       "      <td>264.91</td>\n",
       "      <td>-9.31</td>\n",
       "      <td>93.90</td>\n",
       "      <td>3.21</td>\n",
       "      <td>3.01</td>\n",
       "      <td>0.20</td>\n",
       "      <td>1.88</td>\n",
       "      <td>3.02</td>\n",
       "      <td>1310.24</td>\n",
       "      <td>0.19</td>\n",
       "      <td>0.63</td>\n",
       "      <td>171.6</td>\n",
       "    </tr>\n",
       "    <tr>\n",
       "      <th>3</th>\n",
       "      <td>01.01.2009 00:40:00</td>\n",
       "      <td>996.51</td>\n",
       "      <td>-8.31</td>\n",
       "      <td>265.12</td>\n",
       "      <td>-9.07</td>\n",
       "      <td>94.20</td>\n",
       "      <td>3.26</td>\n",
       "      <td>3.07</td>\n",
       "      <td>0.19</td>\n",
       "      <td>1.92</td>\n",
       "      <td>3.08</td>\n",
       "      <td>1309.19</td>\n",
       "      <td>0.34</td>\n",
       "      <td>0.50</td>\n",
       "      <td>198.0</td>\n",
       "    </tr>\n",
       "    <tr>\n",
       "      <th>4</th>\n",
       "      <td>01.01.2009 00:50:00</td>\n",
       "      <td>996.51</td>\n",
       "      <td>-8.27</td>\n",
       "      <td>265.15</td>\n",
       "      <td>-9.04</td>\n",
       "      <td>94.10</td>\n",
       "      <td>3.27</td>\n",
       "      <td>3.08</td>\n",
       "      <td>0.19</td>\n",
       "      <td>1.92</td>\n",
       "      <td>3.09</td>\n",
       "      <td>1309.00</td>\n",
       "      <td>0.32</td>\n",
       "      <td>0.63</td>\n",
       "      <td>214.3</td>\n",
       "    </tr>\n",
       "    <tr>\n",
       "      <th>...</th>\n",
       "      <td>...</td>\n",
       "      <td>...</td>\n",
       "      <td>...</td>\n",
       "      <td>...</td>\n",
       "      <td>...</td>\n",
       "      <td>...</td>\n",
       "      <td>...</td>\n",
       "      <td>...</td>\n",
       "      <td>...</td>\n",
       "      <td>...</td>\n",
       "      <td>...</td>\n",
       "      <td>...</td>\n",
       "      <td>...</td>\n",
       "      <td>...</td>\n",
       "      <td>...</td>\n",
       "    </tr>\n",
       "    <tr>\n",
       "      <th>420546</th>\n",
       "      <td>31.12.2016 23:20:00</td>\n",
       "      <td>1000.07</td>\n",
       "      <td>-4.05</td>\n",
       "      <td>269.10</td>\n",
       "      <td>-8.13</td>\n",
       "      <td>73.10</td>\n",
       "      <td>4.52</td>\n",
       "      <td>3.30</td>\n",
       "      <td>1.22</td>\n",
       "      <td>2.06</td>\n",
       "      <td>3.30</td>\n",
       "      <td>1292.98</td>\n",
       "      <td>0.67</td>\n",
       "      <td>1.52</td>\n",
       "      <td>240.0</td>\n",
       "    </tr>\n",
       "    <tr>\n",
       "      <th>420547</th>\n",
       "      <td>31.12.2016 23:30:00</td>\n",
       "      <td>999.93</td>\n",
       "      <td>-3.35</td>\n",
       "      <td>269.81</td>\n",
       "      <td>-8.06</td>\n",
       "      <td>69.71</td>\n",
       "      <td>4.77</td>\n",
       "      <td>3.32</td>\n",
       "      <td>1.44</td>\n",
       "      <td>2.07</td>\n",
       "      <td>3.32</td>\n",
       "      <td>1289.44</td>\n",
       "      <td>1.14</td>\n",
       "      <td>1.92</td>\n",
       "      <td>234.3</td>\n",
       "    </tr>\n",
       "    <tr>\n",
       "      <th>420548</th>\n",
       "      <td>31.12.2016 23:40:00</td>\n",
       "      <td>999.82</td>\n",
       "      <td>-3.16</td>\n",
       "      <td>270.01</td>\n",
       "      <td>-8.21</td>\n",
       "      <td>67.91</td>\n",
       "      <td>4.84</td>\n",
       "      <td>3.28</td>\n",
       "      <td>1.55</td>\n",
       "      <td>2.05</td>\n",
       "      <td>3.28</td>\n",
       "      <td>1288.39</td>\n",
       "      <td>1.08</td>\n",
       "      <td>2.00</td>\n",
       "      <td>215.2</td>\n",
       "    </tr>\n",
       "    <tr>\n",
       "      <th>420549</th>\n",
       "      <td>31.12.2016 23:50:00</td>\n",
       "      <td>999.81</td>\n",
       "      <td>-4.23</td>\n",
       "      <td>268.94</td>\n",
       "      <td>-8.53</td>\n",
       "      <td>71.80</td>\n",
       "      <td>4.46</td>\n",
       "      <td>3.20</td>\n",
       "      <td>1.26</td>\n",
       "      <td>1.99</td>\n",
       "      <td>3.20</td>\n",
       "      <td>1293.56</td>\n",
       "      <td>1.49</td>\n",
       "      <td>2.16</td>\n",
       "      <td>225.8</td>\n",
       "    </tr>\n",
       "    <tr>\n",
       "      <th>420550</th>\n",
       "      <td>01.01.2017 00:00:00</td>\n",
       "      <td>999.82</td>\n",
       "      <td>-4.82</td>\n",
       "      <td>268.36</td>\n",
       "      <td>-8.42</td>\n",
       "      <td>75.70</td>\n",
       "      <td>4.27</td>\n",
       "      <td>3.23</td>\n",
       "      <td>1.04</td>\n",
       "      <td>2.01</td>\n",
       "      <td>3.23</td>\n",
       "      <td>1296.38</td>\n",
       "      <td>1.23</td>\n",
       "      <td>1.96</td>\n",
       "      <td>184.9</td>\n",
       "    </tr>\n",
       "  </tbody>\n",
       "</table>\n",
       "<p>420551 rows × 15 columns</p>\n",
       "</div>"
      ],
      "text/plain": [
       "                  Date Time  p (mbar)  T (degC)  Tpot (K)  Tdew (degC)  \\\n",
       "0       01.01.2009 00:10:00    996.52     -8.02    265.40        -8.90   \n",
       "1       01.01.2009 00:20:00    996.57     -8.41    265.01        -9.28   \n",
       "2       01.01.2009 00:30:00    996.53     -8.51    264.91        -9.31   \n",
       "3       01.01.2009 00:40:00    996.51     -8.31    265.12        -9.07   \n",
       "4       01.01.2009 00:50:00    996.51     -8.27    265.15        -9.04   \n",
       "...                     ...       ...       ...       ...          ...   \n",
       "420546  31.12.2016 23:20:00   1000.07     -4.05    269.10        -8.13   \n",
       "420547  31.12.2016 23:30:00    999.93     -3.35    269.81        -8.06   \n",
       "420548  31.12.2016 23:40:00    999.82     -3.16    270.01        -8.21   \n",
       "420549  31.12.2016 23:50:00    999.81     -4.23    268.94        -8.53   \n",
       "420550  01.01.2017 00:00:00    999.82     -4.82    268.36        -8.42   \n",
       "\n",
       "        rh (%)  VPmax (mbar)  VPact (mbar)  VPdef (mbar)  sh (g/kg)  \\\n",
       "0        93.30          3.33          3.11          0.22       1.94   \n",
       "1        93.40          3.23          3.02          0.21       1.89   \n",
       "2        93.90          3.21          3.01          0.20       1.88   \n",
       "3        94.20          3.26          3.07          0.19       1.92   \n",
       "4        94.10          3.27          3.08          0.19       1.92   \n",
       "...        ...           ...           ...           ...        ...   \n",
       "420546   73.10          4.52          3.30          1.22       2.06   \n",
       "420547   69.71          4.77          3.32          1.44       2.07   \n",
       "420548   67.91          4.84          3.28          1.55       2.05   \n",
       "420549   71.80          4.46          3.20          1.26       1.99   \n",
       "420550   75.70          4.27          3.23          1.04       2.01   \n",
       "\n",
       "        H2OC (mmol/mol)  rho (g/m**3)  wv (m/s)  max. wv (m/s)  wd (deg)  \n",
       "0                  3.12       1307.75      1.03           1.75     152.3  \n",
       "1                  3.03       1309.80      0.72           1.50     136.1  \n",
       "2                  3.02       1310.24      0.19           0.63     171.6  \n",
       "3                  3.08       1309.19      0.34           0.50     198.0  \n",
       "4                  3.09       1309.00      0.32           0.63     214.3  \n",
       "...                 ...           ...       ...            ...       ...  \n",
       "420546             3.30       1292.98      0.67           1.52     240.0  \n",
       "420547             3.32       1289.44      1.14           1.92     234.3  \n",
       "420548             3.28       1288.39      1.08           2.00     215.2  \n",
       "420549             3.20       1293.56      1.49           2.16     225.8  \n",
       "420550             3.23       1296.38      1.23           1.96     184.9  \n",
       "\n",
       "[420551 rows x 15 columns]"
      ]
     },
     "execution_count": 195,
     "metadata": {},
     "output_type": "execute_result"
    }
   ],
   "source": [
    "df"
   ]
  },
  {
   "cell_type": "code",
   "execution_count": 196,
   "id": "2715a2b9",
   "metadata": {},
   "outputs": [],
   "source": [
    "# Slice [start:stop:step], starting from index 5 take every 6th record.\n",
    "df = df[5::6]"
   ]
  },
  {
   "cell_type": "code",
   "execution_count": 198,
   "id": "fa399964",
   "metadata": {},
   "outputs": [],
   "source": [
    "date_time = pd.to_datetime(df.pop('Date Time'), format='%d.%m.%Y %H:%M:%S')"
   ]
  },
  {
   "cell_type": "code",
   "execution_count": 199,
   "id": "f08115b2",
   "metadata": {},
   "outputs": [
    {
     "data": {
      "text/plain": [
       "5        2009-01-01 01:00:00\n",
       "11       2009-01-01 02:00:00\n",
       "17       2009-01-01 03:00:00\n",
       "23       2009-01-01 04:00:00\n",
       "29       2009-01-01 05:00:00\n",
       "                 ...        \n",
       "420521   2016-12-31 19:10:00\n",
       "420527   2016-12-31 20:10:00\n",
       "420533   2016-12-31 21:10:00\n",
       "420539   2016-12-31 22:10:00\n",
       "420545   2016-12-31 23:10:00\n",
       "Name: Date Time, Length: 70091, dtype: datetime64[ns]"
      ]
     },
     "execution_count": 199,
     "metadata": {},
     "output_type": "execute_result"
    }
   ],
   "source": [
    "date_time"
   ]
  },
  {
   "cell_type": "code",
   "execution_count": 201,
   "id": "cd1c05d2",
   "metadata": {},
   "outputs": [],
   "source": [
    "timestamp_s = date_time.map(pd.Timestamp.timestamp)"
   ]
  },
  {
   "cell_type": "code",
   "execution_count": 211,
   "id": "a0145be1",
   "metadata": {},
   "outputs": [
    {
     "data": {
      "text/plain": [
       "5         1.230772e+09\n",
       "11        1.230775e+09\n",
       "17        1.230779e+09\n",
       "23        1.230782e+09\n",
       "29        1.230786e+09\n",
       "              ...     \n",
       "420521    1.483211e+09\n",
       "420527    1.483215e+09\n",
       "420533    1.483219e+09\n",
       "420539    1.483222e+09\n",
       "420545    1.483226e+09\n",
       "Name: Date Time, Length: 70091, dtype: float64"
      ]
     },
     "execution_count": 211,
     "metadata": {},
     "output_type": "execute_result"
    }
   ],
   "source": [
    "timestamp_s"
   ]
  },
  {
   "cell_type": "code",
   "execution_count": 204,
   "id": "2bc91afc",
   "metadata": {},
   "outputs": [
    {
     "data": {
      "text/plain": [
       "(70067,)"
      ]
     },
     "execution_count": 204,
     "metadata": {},
     "output_type": "execute_result"
    }
   ],
   "source": [
    "timestamp_s.unique().shape"
   ]
  },
  {
   "cell_type": "code",
   "execution_count": 205,
   "id": "bda5dcbe",
   "metadata": {
    "scrolled": true
   },
   "outputs": [
    {
     "name": "stderr",
     "output_type": "stream",
     "text": [
      "/var/folders/5n/9_pt9s2n7w96mvzm_z6s8q5r0000gn/T/ipykernel_69700/913525465.py:4: SettingWithCopyWarning: \n",
      "A value is trying to be set on a copy of a slice from a DataFrame.\n",
      "Try using .loc[row_indexer,col_indexer] = value instead\n",
      "\n",
      "See the caveats in the documentation: https://pandas.pydata.org/pandas-docs/stable/user_guide/indexing.html#returning-a-view-versus-a-copy\n",
      "  df['Day sin'] = np.sin(timestamp_s * (2 * np.pi / day))\n",
      "/var/folders/5n/9_pt9s2n7w96mvzm_z6s8q5r0000gn/T/ipykernel_69700/913525465.py:5: SettingWithCopyWarning: \n",
      "A value is trying to be set on a copy of a slice from a DataFrame.\n",
      "Try using .loc[row_indexer,col_indexer] = value instead\n",
      "\n",
      "See the caveats in the documentation: https://pandas.pydata.org/pandas-docs/stable/user_guide/indexing.html#returning-a-view-versus-a-copy\n",
      "  df['Day cos'] = np.cos(timestamp_s * (2 * np.pi / day))\n",
      "/var/folders/5n/9_pt9s2n7w96mvzm_z6s8q5r0000gn/T/ipykernel_69700/913525465.py:6: SettingWithCopyWarning: \n",
      "A value is trying to be set on a copy of a slice from a DataFrame.\n",
      "Try using .loc[row_indexer,col_indexer] = value instead\n",
      "\n",
      "See the caveats in the documentation: https://pandas.pydata.org/pandas-docs/stable/user_guide/indexing.html#returning-a-view-versus-a-copy\n",
      "  df['Year sin'] = np.sin(timestamp_s * (2 * np.pi / year))\n",
      "/var/folders/5n/9_pt9s2n7w96mvzm_z6s8q5r0000gn/T/ipykernel_69700/913525465.py:7: SettingWithCopyWarning: \n",
      "A value is trying to be set on a copy of a slice from a DataFrame.\n",
      "Try using .loc[row_indexer,col_indexer] = value instead\n",
      "\n",
      "See the caveats in the documentation: https://pandas.pydata.org/pandas-docs/stable/user_guide/indexing.html#returning-a-view-versus-a-copy\n",
      "  df['Year cos'] = np.cos(timestamp_s * (2 * np.pi / year))\n"
     ]
    }
   ],
   "source": [
    "day = 24*60*60\n",
    "year = (365.2425)*day\n",
    "\n",
    "df['Day sin'] = np.sin(timestamp_s * (2 * np.pi / day))\n",
    "df['Day cos'] = np.cos(timestamp_s * (2 * np.pi / day))\n",
    "df['Year sin'] = np.sin(timestamp_s * (2 * np.pi / year))\n",
    "df['Year cos'] = np.cos(timestamp_s * (2 * np.pi / year))"
   ]
  },
  {
   "cell_type": "code",
   "execution_count": 206,
   "id": "62c2c4b7",
   "metadata": {},
   "outputs": [
    {
     "data": {
      "text/plain": [
       "(67722,)"
      ]
     },
     "execution_count": 206,
     "metadata": {},
     "output_type": "execute_result"
    }
   ],
   "source": [
    "df['Day sin'].unique().shape"
   ]
  },
  {
   "cell_type": "code",
   "execution_count": 207,
   "id": "986b57e6",
   "metadata": {},
   "outputs": [],
   "source": [
    "import matplotlib.pyplot as plt"
   ]
  },
  {
   "cell_type": "code",
   "execution_count": 210,
   "id": "5f5ff5f6",
   "metadata": {},
   "outputs": [
    {
     "data": {
      "text/plain": [
       "Text(0.5, 1.0, 'Time of day signal')"
      ]
     },
     "execution_count": 210,
     "metadata": {},
     "output_type": "execute_result"
    },
    {
     "data": {
      "image/png": "[encoded data removed]",
      "text/plain": [
       "<Figure size 432x288 with 1 Axes>"
      ]
     },
     "metadata": {
      "needs_background": "light"
     },
     "output_type": "display_data"
    }
   ],
   "source": [
    "plt.plot(np.array(df['Day sin'])[:25])\n",
    "plt.plot(np.array(df['Day cos'])[:25])\n",
    "plt.xlabel('Time [h]')\n",
    "plt.title('Time of day signal')"
   ]
  },
  {
   "cell_type": "code",
   "execution_count": null,
   "id": "2f5e2142",
   "metadata": {},
   "outputs": [],
   "source": []
  }
 ],
 "metadata": {
  "kernelspec": {
   "display_name": "Python 3 (ipykernel)",
   "language": "python",
   "name": "python3"
  },
  "language_info": {
   "codemirror_mode": {
    "name": "ipython",
    "version": 3
   },
   "file_extension": ".py",
   "mimetype": "text/x-python",
   "name": "python",
   "nbconvert_exporter": "python",
   "pygments_lexer": "ipython3",
   "version": "3.10.2"
  }
 },
 "nbformat": 4,
 "nbformat_minor": 5
}
